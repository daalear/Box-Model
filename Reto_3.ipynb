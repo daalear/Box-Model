{
  "nbformat": 4,
  "nbformat_minor": 0,
  "metadata": {
    "colab": {
      "name": "Reto 3.ipynb",
      "provenance": [],
      "authorship_tag": "ABX9TyNDc4H79gB+PIfa8gXpdS08",
      "include_colab_link": true
    },
    "kernelspec": {
      "name": "python3",
      "display_name": "Python 3"
    },
    "language_info": {
      "name": "python"
    }
  },
  "cells": [
    {
      "cell_type": "markdown",
      "metadata": {
        "id": "view-in-github",
        "colab_type": "text"
      },
      "source": [
        "<a href=\"https://colab.research.google.com/github/daalear/Box-Model/blob/master/Reto_3.ipynb\" target=\"_parent\"><img src=\"https://colab.research.google.com/assets/colab-badge.svg\" alt=\"Open In Colab\"/></a>"
      ]
    },
    {
      "cell_type": "code",
      "metadata": {
        "colab": {
          "base_uri": "https://localhost:8080/"
        },
        "id": "lbcl08CMujx5",
        "outputId": "e07fd869-17ea-48e1-a0d1-3a631841d69d"
      },
      "source": [
        "n =int(input())\n",
        "listas = []\n",
        "for i in range (n):\n",
        "  valores = input().split()\n",
        "  listas.append(valores)\n",
        "\n",
        "  print(listas)"
      ],
      "execution_count": 3,
      "outputs": [
        {
          "output_type": "stream",
          "text": [
            "3\n",
            "18 7 10 19 51\n",
            "[['18', '7', '10', '19', '51']]\n",
            "16 9 13 11 45\n",
            "[['18', '7', '10', '19', '51'], ['16', '9', '13', '11', '45']]\n",
            "18 9 16 15 36\n",
            "[['18', '7', '10', '19', '51'], ['16', '9', '13', '11', '45'], ['18', '9', '16', '15', '36']]\n"
          ],
          "name": "stdout"
        }
      ]
    },
    {
      "cell_type": "code",
      "metadata": {
        "colab": {
          "base_uri": "https://localhost:8080/"
        },
        "id": "Ly71XLOFu_O-",
        "outputId": "76e5f0af-264a-4a90-83d8-ee3ac7fc84d2"
      },
      "source": [
        "listas = [['18', '7', '10', '19', '51'], ['16', '9', '13', '11', '45'], ['18', '9', '16', '15', '36']]\n",
        "a = listas[0]\n",
        "print(a)\n",
        "b = listas[0][2]\n",
        "print(b)\n"
      ],
      "execution_count": 13,
      "outputs": [
        {
          "output_type": "stream",
          "text": [
            "['18', '7', '10', '19', '51']\n",
            "10\n",
            "19\n",
            "11\n",
            "15\n"
          ],
          "name": "stdout"
        }
      ]
    },
    {
      "cell_type": "code",
      "metadata": {
        "id": "cET87PXbx2rz",
        "outputId": "4e3b2384-83f1-45b7-a14f-91e2ce4d3e08",
        "colab": {
          "base_uri": "https://localhost:8080/"
        }
      },
      "source": [
        "listas = [['18', '7', '10', '19', '51'], ['16', '9', '13', '11', '45'], ['18', '9', '16', '15', '36']]\n",
        "\n",
        "for lista in listas:\n",
        "  print(lista[3])"
      ],
      "execution_count": 14,
      "outputs": [
        {
          "output_type": "stream",
          "text": [
            "19\n",
            "11\n",
            "15\n"
          ],
          "name": "stdout"
        }
      ]
    }
  ]
}